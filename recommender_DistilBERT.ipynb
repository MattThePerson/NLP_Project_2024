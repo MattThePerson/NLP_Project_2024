{
 "cells": [
  {
   "cell_type": "code",
   "execution_count": 1,
   "metadata": {},
   "outputs": [],
   "source": [
    "import os\n",
    "import time\n",
    "import pickle\n",
    "from ast import literal_eval\n",
    "import numpy as np\n",
    "import matplotlib.pyplot as plt\n",
    "\n",
    "import torch\n",
    "from transformers import DistilBertTokenizer, DistilBertModel\n",
    "import pandas as pd\n",
    "from sklearn.metrics.pairwise import cosine_similarity\n",
    "import numpy as np"
   ]
  },
  {
   "cell_type": "code",
   "execution_count": 67,
   "metadata": {},
   "outputs": [],
   "source": [
    "def get_train_and_test_data(df):\n",
    "    from sklearn.model_selection import train_test_split\n",
    "    df_exploded = df.explode(['rated_recipes', 'rating_list'])\n",
    "    df_train_exploded, df_test_exploded = train_test_split(df_exploded, test_size=0.2, random_state=42)\n",
    "    df_train = df_train_exploded.groupby(level=0).agg(list).drop('ingredients', axis=1)\n",
    "    df_test = df_test_exploded.groupby(level=0).agg(list).drop('ingredients', axis=1)\n",
    "    all_user_ids = df.index\n",
    "    df_train = df_train.reindex(all_user_ids, fill_value=[]) # Re-index to ensure all user_ids are included\n",
    "    df_test = df_test.reindex(all_user_ids, fill_value=[])\n",
    "    return df_train, df_test"
   ]
  },
  {
   "cell_type": "code",
   "execution_count": 2,
   "metadata": {},
   "outputs": [],
   "source": [
    "def get_text_from_recipe(recipe):\n",
    "    tags = recipe['tags'] if isinstance(recipe['tags'], list) else []\n",
    "    ingredients = recipe['ingredients'] if isinstance(recipe['ingredients'], list) else []\n",
    "    description = str(recipe['description']) if isinstance(recipe['description'], str) else \"\"\n",
    "    return description + ' ' + ' '.join(tags + ingredients)"
   ]
  },
  {
   "cell_type": "code",
   "execution_count": 3,
   "metadata": {},
   "outputs": [],
   "source": [
    "# Helper function to get DistilBERT embeddings for text\n",
    "def get_embedding_DistilBERT(text, tokenizer, model):\n",
    "    inputs = tokenizer(text, return_tensors='pt', truncation=True, max_length=512)\n",
    "    outputs = model(**inputs)\n",
    "    return outputs.last_hidden_state.mean(dim=1).detach()"
   ]
  },
  {
   "cell_type": "code",
   "execution_count": 4,
   "metadata": {},
   "outputs": [],
   "source": [
    "def create_recipe_embeddings_DistilBERT(df_recipes, handle_limit=None, save_dir='embeddings-distilbert', redo=False):  # Set max_recipes to the desired limit\n",
    "    os.makedirs(save_dir, exist_ok=True)\n",
    "    n_rows = len(df_recipes)\n",
    "    start = time.time()\n",
    "    handled_i = 0\n",
    "    for i, (recipe_id, row) in enumerate(df_recipes.iterrows()):\n",
    "        save_fn = f\"{save_dir}/{recipe_id}.pkl\"\n",
    "        if redo or not os.path.exists(save_fn):\n",
    "            print('\\rGetting embedding for {:_}/{:_} ({:.1f}%) ({:_} handled)'.format(i+1, n_rows, ((i+1)/n_rows)*100, handled_i), end='')\n",
    "            print(' ({:.1f} per min)'.format( (handled_i / (time.time()-start) * 60) ), end='')\n",
    "            content_text = get_text_from_recipe(row)\n",
    "            recipe_embedding = get_embedding_DistilBERT(content_text)\n",
    "            with open(save_fn, \"wb\") as f:\n",
    "                pickle.dump(recipe_embedding, f)\n",
    "            handled_i += 1\n",
    "            if handle_limit and handled_i > handle_limit:\n",
    "                break\n",
    "    print('\\nDone. Took {:_}s'.format(int(time.time()-start)))"
   ]
  },
  {
   "cell_type": "code",
   "execution_count": null,
   "metadata": {},
   "outputs": [],
   "source": [
    "# DEPRECATED: Loads recipe embeddings from pkl files\n",
    "def load_recipe_embeddings_distilBERT(save_dir='embeddings-distilbert', limit=None):\n",
    "    embeddings, ids = [], []\n",
    "    for i, item in enumerate(os.listdir(save_dir)):\n",
    "        print('\\r{}'.format(i+1), end='')\n",
    "        recipe_id = item.split('.')[0]\n",
    "        itempath = os.path.join(save_dir, item)\n",
    "        try:\n",
    "            with open(itempath, 'rb') as f:\n",
    "                recipe_embedding = pickle.load(f)\n",
    "            embeddings.append(recipe_embedding)\n",
    "            ids.append(recipe_id)\n",
    "        except:\n",
    "            print('Error: Unable to read \"{}\". Removing ...'.format(itempath))\n",
    "            # os.remove(itempath) # assumes the file is empty and can be deleted\n",
    "        if limit and i >= limit: break\n",
    "    return { id_: emb for id_, emb in zip(ids, embeddings) }"
   ]
  },
  {
   "cell_type": "code",
   "execution_count": 39,
   "metadata": {},
   "outputs": [],
   "source": [
    "def create_recipe_embeddings_tensor(save_dir='embeddings-distilbert', limit=None):\n",
    "    ids, embeddings = [], []\n",
    "    n_items = len(os.listdir(save_dir))\n",
    "    for i, item in enumerate(os.listdir(save_dir)):\n",
    "        print('\\r({:_}/{:_})'.format(i+1, n_items), end='')\n",
    "        id_ = item.split('.')[0]\n",
    "        path = f'{save_dir}/{item}'\n",
    "        try:\n",
    "            with open(path, 'rb') as f:\n",
    "                embeddings.append(pickle.load(f))\n",
    "            ids.append(id_)\n",
    "        except:\n",
    "            pass\n",
    "        if limit and i >= limit: break\n",
    "    print('\\nDone.')\n",
    "    embeddings_tensor = torch.stack(embeddings)\n",
    "    ids_to_index_BERT = { id_: i for i, id_ in enumerate(ids) }\n",
    "    return embeddings_tensor, ids_to_index_BERT"
   ]
  },
  {
   "cell_type": "code",
   "execution_count": 28,
   "metadata": {},
   "outputs": [],
   "source": [
    "def save_recipe_embeddings_tensor(embeds_tensor, id_index_map, save_dir):\n",
    "    os.makedirs(save_dir, exist_ok=True)\n",
    "    torch_fn = f'{save_dir}/tensor.pt'\n",
    "    pkl_fn = f'{save_dir}/id_index_map.pkl'\n",
    "    torch.save(embeds_tensor, torch_fn)\n",
    "    with open(pkl_fn, 'wb') as f:\n",
    "        pickle.dump(id_index_map, f)"
   ]
  },
  {
   "cell_type": "code",
   "execution_count": 87,
   "metadata": {},
   "outputs": [],
   "source": [
    "def load_recipe_embeddings_matrix(save_dir):\n",
    "    torch_fn = f'{save_dir}/tensor.pt'\n",
    "    pkl_fn = f'{save_dir}/id_index_map.pkl'\n",
    "    tensor = torch.load(torch_fn)\n",
    "    matrix = tensor.squeeze().numpy()\n",
    "    with open(pkl_fn, 'rb') as f:\n",
    "        id_index_map = pickle.load(f)\n",
    "    id_index_map = { int(id_): i for id_, i in id_index_map.items() }\n",
    "    return matrix, id_index_map"
   ]
  },
  {
   "cell_type": "code",
   "execution_count": 109,
   "metadata": {},
   "outputs": [],
   "source": [
    "def create_user_embeddings_from_recipe_embeddings(df_userdata, recipe_embeddings_matrix, id_index_map, max_users=None):  # Limit number of users for testing\n",
    "    df_userdata = df_userdata.head(max_users)\n",
    "    n_rows = len(df_userdata)\n",
    "    user_embeddings = []\n",
    "    for i, (_, row) in enumerate(df_userdata.iterrows()):\n",
    "        print('\\rGetting embedding for {:_}/{:_} ({:.1f}%)'.format(i+1, n_rows, ((i+1)/n_rows)*100), end='')\n",
    "        rated_recipes, ratings = row['rated_recipes'], row['rating_list']\n",
    "        user_embedding = []\n",
    "        for recipe_id, rating in zip(rated_recipes, ratings):\n",
    "            idx = id_index_map[recipe_id]\n",
    "            recipe_embedding = recipe_embeddings_matrix[idx]\n",
    "            weighted_embedding = (rating-2) * recipe_embedding # Weight recipe embeddings by rating\n",
    "            user_embedding.append(weighted_embedding)\n",
    "        if user_embedding != []:\n",
    "            user_embedding = np.array(user_embedding) # Ensure all embeddings are the same shape (i.e., 1D vectors)\n",
    "            if user_embedding.ndim == 2:\n",
    "                user_embedding = np.mean(user_embedding, axis=0)\n",
    "            user_embeddings.append(user_embedding)\n",
    "    return np.array(user_embeddings)"
   ]
  },
  {
   "cell_type": "markdown",
   "metadata": {},
   "source": [
    "#### Load Data"
   ]
  },
  {
   "cell_type": "code",
   "execution_count": 7,
   "metadata": {},
   "outputs": [],
   "source": [
    "# Load recipes & recipe_reviews\n",
    "converters = { k: literal_eval for k in ['tags', 'ingredients', 'steps', 'nutrition'] } # for evaluating strings as arrays (eg. tags)\n",
    "df_recipes = pd.read_csv('dataset/RAW_recipes.csv', converters=converters, index_col='id')\n",
    "# df_recipe_reviews = pd.read_csv('dataset/Recipe_Reviews.csv', index_col='id')\n",
    "# df_interact = pd.read_csv('dataset/RAW_interactions.csv', dtype={'review': str})\n",
    "\n",
    "converters = { k: literal_eval for k in ['rated_recipes', 'ingredients', 'rating_list'] }\n",
    "df_userdata = pd.read_csv('dataset/User_Data.csv', converters=converters, index_col='user_id')"
   ]
  },
  {
   "cell_type": "code",
   "execution_count": 68,
   "metadata": {},
   "outputs": [
    {
     "name": "stdout",
     "output_type": "stream",
     "text": [
      "Loading train and test userdata ...\n",
      "Done.\n"
     ]
    }
   ],
   "source": [
    "# Create/Load Training and Test data\n",
    "converters = { k: literal_eval for k in ['rated_recipes', 'ingredients', 'rating_list'] }\n",
    "train_fn = 'dataset/User_Data_Train.csv'\n",
    "test_fn = 'dataset/User_Data_Test.csv'\n",
    "if os.path.exists(train_fn):\n",
    "    print('Loading train and test userdata ...')\n",
    "    df_train = pd.read_csv(train_fn, converters=converters, index_col='user_id')\n",
    "    df_test =  pd.read_csv(test_fn, converters=converters, index_col='user_id')\n",
    "else:\n",
    "    print('Reading userdata dataframe ...')\n",
    "    df_userdata = pd.read_csv('dataset/User_Data.csv', converters=converters, index_col='user_id')\n",
    "    print('Splitting userdata into training and test data ...')\n",
    "    df_train, df_test = get_train_and_test_data(df_userdata.head(None).copy())\n",
    "    df_train.to_csv(train_fn)\n",
    "    df_test.to_csv(test_fn)\n",
    "print('Done.')"
   ]
  },
  {
   "cell_type": "code",
   "execution_count": 104,
   "metadata": {},
   "outputs": [],
   "source": [
    "# create id-index maps\n",
    "id_to_index_RECIPES = { id_: i for i, id_ in enumerate(df_recipes.index) }\n",
    "index_to_id_RECIPES = { i: id_ for i, id_ in enumerate(df_recipes.index) }\n",
    "\n",
    "id_to_index_USERS = { id_: i for i, id_ in enumerate(df_train.index) }\n",
    "index_to_id_USERS = { i: id_ for i, id_ in enumerate(df_train.index) }"
   ]
  },
  {
   "cell_type": "markdown",
   "metadata": {},
   "source": [
    "#### Initialize DistilBERT Model"
   ]
  },
  {
   "cell_type": "code",
   "execution_count": 8,
   "metadata": {},
   "outputs": [],
   "source": [
    "# Initialize DistilBERT\n",
    "tokenizer_DistilBERT = DistilBertTokenizer.from_pretrained('distilbert-base-uncased')\n",
    "model_DistilBERT = DistilBertModel.from_pretrained('distilbert-base-uncased')"
   ]
  },
  {
   "cell_type": "code",
   "execution_count": null,
   "metadata": {},
   "outputs": [
    {
     "name": "stdout",
     "output_type": "stream",
     "text": [
      "\n",
      "Done. Took 81s\n"
     ]
    }
   ],
   "source": [
    "# Creates the recipe embeddings and pickles them into folder (slow to read)\n",
    "create_recipe_embeddings_DistilBERT(df_recipes, handle_limit=None)"
   ]
  },
  {
   "cell_type": "code",
   "execution_count": null,
   "metadata": {},
   "outputs": [
    {
     "name": "stdout",
     "output_type": "stream",
     "text": [
      "(231_637/231_637)\n",
      "Done.\n",
      "Saving tensor ...\n"
     ]
    }
   ],
   "source": [
    "# Create recipe\n",
    "try:\n",
    "    embeds_tensor, ids_to_index_map = create_recipe_embeddings_tensor(limit=None)\n",
    "    print('Saving tensor ...')\n",
    "    save_recipe_embeddings_tensor(embeds_tensor, ids_to_index_map, 'embeddings/recipe_embeddings_BERT')\n",
    "except KeyboardInterrupt:\n",
    "    print('\\nKeyboard interrupt detected ...')"
   ]
  },
  {
   "cell_type": "code",
   "execution_count": 101,
   "metadata": {},
   "outputs": [
    {
     "name": "stderr",
     "output_type": "stream",
     "text": [
      "C:\\Users\\stirl\\AppData\\Local\\Temp\\ipykernel_24252\\611496738.py:4: FutureWarning: You are using `torch.load` with `weights_only=False` (the current default value), which uses the default pickle module implicitly. It is possible to construct malicious pickle data which will execute arbitrary code during unpickling (See https://github.com/pytorch/pytorch/blob/main/SECURITY.md#untrusted-models for more details). In a future release, the default value for `weights_only` will be flipped to `True`. This limits the functions that could be executed during unpickling. Arbitrary objects will no longer be allowed to be loaded via this mode unless they are explicitly allowlisted by the user via `torch.serialization.add_safe_globals`. We recommend you start setting `weights_only=True` for any use case where you don't have full control of the loaded file. Please open an issue on GitHub for any issues related to this experimental feature.\n",
      "  tensor = torch.load(torch_fn)\n"
     ]
    }
   ],
   "source": [
    "# Load recipe embeddings tensor\n",
    "recipe_embeddings, id_index_map = load_recipe_embeddings_matrix('embeddings/recipe_embeddings_BERT')"
   ]
  },
  {
   "cell_type": "code",
   "execution_count": 102,
   "metadata": {},
   "outputs": [
    {
     "name": "stdout",
     "output_type": "stream",
     "text": [
      "Getting embedding for 226_570/226_570 (100.0%)"
     ]
    }
   ],
   "source": [
    "# Load recipe_embeddings and create user embeddings\n",
    "try:\n",
    "    user_embeddings = create_user_embeddings_from_recipe_embeddings(df_train, recipe_embeddings, id_index_map, max_users=None)\n",
    "except KeyboardInterrupt:\n",
    "    print('\\nKeyboard interrupt detected ...')"
   ]
  },
  {
   "cell_type": "code",
   "execution_count": 178,
   "metadata": {},
   "outputs": [],
   "source": [
    "# \n",
    "def get_recipe_recommendations_for_user(user_embedding, recipe_embeddings, recipes_rated_by_user, index_to_id_RECIPES, top_n=100):\n",
    "    cosine_sims = cosine_similarity([user_embedding], recipe_embeddings)[0]\n",
    "    sims_items = [ (i, sim) for i, sim in enumerate(cosine_sims) ]\n",
    "    sims_items.sort(reverse=True, key=lambda item: item[1])\n",
    "    sims_ids = [ (index_to_id_RECIPES[idx], sim) for idx, sim in sims_items ]\n",
    "    recommend = []\n",
    "    while len(recommend) < top_n and len(sims_ids) > 0:\n",
    "        recipe_id, sim = sims_ids.pop()\n",
    "        if recipe_id not in recipes_rated_by_user:\n",
    "            recommend.append((recipe_id, sim))\n",
    "    return recommend"
   ]
  },
  {
   "cell_type": "code",
   "execution_count": null,
   "metadata": {},
   "outputs": [],
   "source": [
    "# \n",
    "i = 0\n",
    "user_id = df_train.index[i]\n",
    "recipes = df_train.loc[user_id]['rated_recipes']\n",
    "user_embedding = user_embeddings[user_id]\n",
    "recommend = get_recipe_recommendations_for_user(user_embedding, recipe_embeddings, recipes, index_to_id_RECIPES, top_n=10)\n",
    "recommend"
   ]
  },
  {
   "cell_type": "code",
   "execution_count": null,
   "metadata": {},
   "outputs": [],
   "source": [
    "def get_recipe_recommendations_for_all_users(df_userdata, user_embeddings, item_embeddings, index_to_id_RECIPES, df_recommend, save_name='recommend.csv', save_period=None, size_limit=None, top_n=100):\n",
    "    n_rows = len(df_recommend)\n",
    "    for i, (user_id, row) in enumerate(df_recommend.iterrows()):\n",
    "        if not isinstance(row['recommended_recipes'], list):\n",
    "            print('\\r({:_}/{:_})'.format(i+1, n_rows), end='')\n",
    "            user_embedding = user_embeddings[i]\n",
    "            rated_recipes = df_userdata.loc[user_id]['rated_recipes']\n",
    "            recommend_items = get_recipe_recommendations_for_user(user_embedding, item_embeddings, rated_recipes, index_to_id_RECIPES, top_n=top_n)\n",
    "            recommend_ids = [ id_ for id_, sim in recommend_items ]\n",
    "            recommend_sims = [ sim for id_, sim in recommend_items ]\n",
    "            df_recommend.at[user_id, 'recommended_recipes'] = recommend_ids\n",
    "            df_recommend.at[user_id, 'recommended_sims'] = recommend_sims\n",
    "            if size_limit and i >= size_limit-1:            break\n",
    "            if save_period and i>0 and i%save_period==0:    df_recommend.to_csv(save_name)\n",
    "    print('\\nDone.')\n",
    "    df_recommend.to_csv(save_name)\n",
    "    return df_recommend"
   ]
  },
  {
   "cell_type": "code",
   "execution_count": 181,
   "metadata": {},
   "outputs": [],
   "source": [
    "# \n",
    "df_recommend_fn = 'dataset/recommendations_BERT/recommend_BERT.csv'\n",
    "df_recommend = pd.DataFrame(index=df_train.index, columns=['recommended_recipes', 'recommended_sims'])"
   ]
  },
  {
   "cell_type": "code",
   "execution_count": 196,
   "metadata": {},
   "outputs": [
    {
     "name": "stdout",
     "output_type": "stream",
     "text": [
      "(8_010/226_570)\n",
      "Keyboard interrupt detected ...\n"
     ]
    }
   ],
   "source": [
    "# \n",
    "try:\n",
    "    df_recommend = get_recipe_recommendations_for_all_users(df_train, user_embeddings, recipe_embeddings, index_to_id_RECIPES, df_recommend, \n",
    "                                                            save_name=df_recommend_fn, save_period=10, size_limit=None, top_n=1000)\n",
    "except KeyboardInterrupt:\n",
    "    print('\\nKeyboard interrupt detected ...')"
   ]
  },
  {
   "cell_type": "code",
   "execution_count": null,
   "metadata": {},
   "outputs": [],
   "source": []
  }
 ],
 "metadata": {
  "kernelspec": {
   "display_name": "venv_nlp",
   "language": "python",
   "name": "python3"
  },
  "language_info": {
   "codemirror_mode": {
    "name": "ipython",
    "version": 3
   },
   "file_extension": ".py",
   "mimetype": "text/x-python",
   "name": "python",
   "nbconvert_exporter": "python",
   "pygments_lexer": "ipython3",
   "version": "3.11.0"
  }
 },
 "nbformat": 4,
 "nbformat_minor": 2
}
