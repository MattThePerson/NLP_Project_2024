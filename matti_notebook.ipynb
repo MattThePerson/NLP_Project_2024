{
 "cells": [
  {
   "cell_type": "code",
   "execution_count": 1,
   "metadata": {},
   "outputs": [],
   "source": [
    "import pandas as pd\n",
    "import matplotlib.pyplot as plt\n",
    "import numpy as np\n",
    "import os\n",
    "from ast import literal_eval\n",
    "import random\n",
    "\n",
    "pd.set_option('display.width', 1400)"
   ]
  },
  {
   "cell_type": "code",
   "execution_count": 2,
   "metadata": {},
   "outputs": [],
   "source": [
    "# Helper Functions\n",
    "\n",
    "def format_text(text, line_width=120):\n",
    "    lines = []\n",
    "    line = ''\n",
    "    for word in text.split():\n",
    "        if len(line) == 0:\n",
    "            line = word\n",
    "        elif len(line + ' ' + word) > line_width:\n",
    "            lines.append(line)\n",
    "            line = ''\n",
    "        else:\n",
    "            line += ' ' + word\n",
    "    lines.append(line)\n",
    "    return '\\n'.join(lines)"
   ]
  },
  {
   "cell_type": "code",
   "execution_count": 3,
   "metadata": {},
   "outputs": [
    {
     "data": {
      "text/html": [
       "<div>\n",
       "<style scoped>\n",
       "    .dataframe tbody tr th:only-of-type {\n",
       "        vertical-align: middle;\n",
       "    }\n",
       "\n",
       "    .dataframe tbody tr th {\n",
       "        vertical-align: top;\n",
       "    }\n",
       "\n",
       "    .dataframe thead th {\n",
       "        text-align: right;\n",
       "    }\n",
       "</style>\n",
       "<table border=\"1\" class=\"dataframe\">\n",
       "  <thead>\n",
       "    <tr style=\"text-align: right;\">\n",
       "      <th></th>\n",
       "      <th>name</th>\n",
       "      <th>minutes</th>\n",
       "      <th>contributor_id</th>\n",
       "      <th>submitted</th>\n",
       "      <th>tags</th>\n",
       "      <th>nutrition</th>\n",
       "      <th>n_steps</th>\n",
       "      <th>steps</th>\n",
       "      <th>description</th>\n",
       "      <th>ingredients</th>\n",
       "      <th>n_ingredients</th>\n",
       "      <th>n_tags</th>\n",
       "    </tr>\n",
       "    <tr>\n",
       "      <th>id</th>\n",
       "      <th></th>\n",
       "      <th></th>\n",
       "      <th></th>\n",
       "      <th></th>\n",
       "      <th></th>\n",
       "      <th></th>\n",
       "      <th></th>\n",
       "      <th></th>\n",
       "      <th></th>\n",
       "      <th></th>\n",
       "      <th></th>\n",
       "      <th></th>\n",
       "    </tr>\n",
       "  </thead>\n",
       "  <tbody>\n",
       "    <tr>\n",
       "      <th>137739</th>\n",
       "      <td>arriba   baked winter squash mexican style</td>\n",
       "      <td>55</td>\n",
       "      <td>47892</td>\n",
       "      <td>2005-09-16</td>\n",
       "      <td>[60-minutes-or-less, time-to-make, course, mai...</td>\n",
       "      <td>[51.5, 0.0, 13.0, 0.0, 2.0, 0.0, 4.0]</td>\n",
       "      <td>11</td>\n",
       "      <td>[make a choice and proceed with recipe, depend...</td>\n",
       "      <td>autumn is my favorite time of year to cook! th...</td>\n",
       "      <td>[winter squash, mexican seasoning, mixed spice...</td>\n",
       "      <td>7</td>\n",
       "      <td>20</td>\n",
       "    </tr>\n",
       "    <tr>\n",
       "      <th>31490</th>\n",
       "      <td>a bit different  breakfast pizza</td>\n",
       "      <td>30</td>\n",
       "      <td>26278</td>\n",
       "      <td>2002-06-17</td>\n",
       "      <td>[30-minutes-or-less, time-to-make, course, mai...</td>\n",
       "      <td>[173.4, 18.0, 0.0, 17.0, 22.0, 35.0, 1.0]</td>\n",
       "      <td>9</td>\n",
       "      <td>[preheat oven to 425 degrees f, press dough in...</td>\n",
       "      <td>this recipe calls for the crust to be prebaked...</td>\n",
       "      <td>[prepared pizza crust, sausage patty, eggs, mi...</td>\n",
       "      <td>6</td>\n",
       "      <td>20</td>\n",
       "    </tr>\n",
       "    <tr>\n",
       "      <th>112140</th>\n",
       "      <td>all in the kitchen  chili</td>\n",
       "      <td>130</td>\n",
       "      <td>196586</td>\n",
       "      <td>2005-02-25</td>\n",
       "      <td>[time-to-make, course, preparation, main-dish,...</td>\n",
       "      <td>[269.8, 22.0, 32.0, 48.0, 39.0, 27.0, 5.0]</td>\n",
       "      <td>6</td>\n",
       "      <td>[brown ground beef in large pot, add chopped o...</td>\n",
       "      <td>this modified version of 'mom's' chili was a h...</td>\n",
       "      <td>[ground beef, yellow onions, diced tomatoes, t...</td>\n",
       "      <td>13</td>\n",
       "      <td>9</td>\n",
       "    </tr>\n",
       "    <tr>\n",
       "      <th>59389</th>\n",
       "      <td>alouette  potatoes</td>\n",
       "      <td>45</td>\n",
       "      <td>68585</td>\n",
       "      <td>2003-04-14</td>\n",
       "      <td>[60-minutes-or-less, time-to-make, course, mai...</td>\n",
       "      <td>[368.1, 17.0, 10.0, 2.0, 14.0, 8.0, 20.0]</td>\n",
       "      <td>11</td>\n",
       "      <td>[place potatoes in a large pot of lightly salt...</td>\n",
       "      <td>this is a super easy, great tasting, make ahea...</td>\n",
       "      <td>[spreadable cheese with garlic and herbs, new ...</td>\n",
       "      <td>11</td>\n",
       "      <td>30</td>\n",
       "    </tr>\n",
       "    <tr>\n",
       "      <th>44061</th>\n",
       "      <td>amish  tomato ketchup  for canning</td>\n",
       "      <td>190</td>\n",
       "      <td>41706</td>\n",
       "      <td>2002-10-25</td>\n",
       "      <td>[weeknight, time-to-make, course, main-ingredi...</td>\n",
       "      <td>[352.9, 1.0, 337.0, 23.0, 3.0, 0.0, 28.0]</td>\n",
       "      <td>5</td>\n",
       "      <td>[mix all ingredients&amp; boil for 2 1 / 2 hours ,...</td>\n",
       "      <td>my dh's amish mother raised him on this recipe...</td>\n",
       "      <td>[tomato juice, apple cider vinegar, sugar, sal...</td>\n",
       "      <td>8</td>\n",
       "      <td>21</td>\n",
       "    </tr>\n",
       "  </tbody>\n",
       "</table>\n",
       "</div>"
      ],
      "text/plain": [
       "                                              name  minutes  contributor_id   submitted                                               tags                                   nutrition  n_steps                                              steps                                        description                                        ingredients  n_ingredients  n_tags\n",
       "id                                                                                                                                                                                                                                                                                                                                                                             \n",
       "137739  arriba   baked winter squash mexican style       55           47892  2005-09-16  [60-minutes-or-less, time-to-make, course, mai...       [51.5, 0.0, 13.0, 0.0, 2.0, 0.0, 4.0]       11  [make a choice and proceed with recipe, depend...  autumn is my favorite time of year to cook! th...  [winter squash, mexican seasoning, mixed spice...              7      20\n",
       "31490             a bit different  breakfast pizza       30           26278  2002-06-17  [30-minutes-or-less, time-to-make, course, mai...   [173.4, 18.0, 0.0, 17.0, 22.0, 35.0, 1.0]        9  [preheat oven to 425 degrees f, press dough in...  this recipe calls for the crust to be prebaked...  [prepared pizza crust, sausage patty, eggs, mi...              6      20\n",
       "112140                   all in the kitchen  chili      130          196586  2005-02-25  [time-to-make, course, preparation, main-dish,...  [269.8, 22.0, 32.0, 48.0, 39.0, 27.0, 5.0]        6  [brown ground beef in large pot, add chopped o...  this modified version of 'mom's' chili was a h...  [ground beef, yellow onions, diced tomatoes, t...             13       9\n",
       "59389                           alouette  potatoes       45           68585  2003-04-14  [60-minutes-or-less, time-to-make, course, mai...   [368.1, 17.0, 10.0, 2.0, 14.0, 8.0, 20.0]       11  [place potatoes in a large pot of lightly salt...  this is a super easy, great tasting, make ahea...  [spreadable cheese with garlic and herbs, new ...             11      30\n",
       "44061           amish  tomato ketchup  for canning      190           41706  2002-10-25  [weeknight, time-to-make, course, main-ingredi...   [352.9, 1.0, 337.0, 23.0, 3.0, 0.0, 28.0]        5  [mix all ingredients& boil for 2 1 / 2 hours ,...  my dh's amish mother raised him on this recipe...  [tomato juice, apple cider vinegar, sugar, sal...              8      21"
      ]
     },
     "execution_count": 3,
     "metadata": {},
     "output_type": "execute_result"
    }
   ],
   "source": [
    "# Load recipes into dataframe\n",
    "converters = { k: literal_eval for k in ['tags', 'ingredients', 'steps', 'nutrition'] } # for evaluating strings as arrays (eg. tags)\n",
    "df_recipes = pd.read_csv('dataset/RAW_recipes.csv', converters=converters, index_col='id')\n",
    "df_recipes['n_tags'] = df_recipes['tags'].apply( lambda tags: len(tags) ) # add n_tags column\n",
    "df_recipes.head()"
   ]
  },
  {
   "cell_type": "code",
   "execution_count": 4,
   "metadata": {},
   "outputs": [
    {
     "data": {
      "text/html": [
       "<div>\n",
       "<style scoped>\n",
       "    .dataframe tbody tr th:only-of-type {\n",
       "        vertical-align: middle;\n",
       "    }\n",
       "\n",
       "    .dataframe tbody tr th {\n",
       "        vertical-align: top;\n",
       "    }\n",
       "\n",
       "    .dataframe thead th {\n",
       "        text-align: right;\n",
       "    }\n",
       "</style>\n",
       "<table border=\"1\" class=\"dataframe\">\n",
       "  <thead>\n",
       "    <tr style=\"text-align: right;\">\n",
       "      <th></th>\n",
       "      <th>user_id</th>\n",
       "      <th>recipe_id</th>\n",
       "      <th>date</th>\n",
       "      <th>rating</th>\n",
       "      <th>review</th>\n",
       "    </tr>\n",
       "  </thead>\n",
       "  <tbody>\n",
       "    <tr>\n",
       "      <th>0</th>\n",
       "      <td>38094</td>\n",
       "      <td>40893</td>\n",
       "      <td>2003-02-17</td>\n",
       "      <td>4</td>\n",
       "      <td>Great with a salad. Cooked on top of stove for...</td>\n",
       "    </tr>\n",
       "    <tr>\n",
       "      <th>1</th>\n",
       "      <td>1293707</td>\n",
       "      <td>40893</td>\n",
       "      <td>2011-12-21</td>\n",
       "      <td>5</td>\n",
       "      <td>So simple, so delicious! Great for chilly fall...</td>\n",
       "    </tr>\n",
       "    <tr>\n",
       "      <th>2</th>\n",
       "      <td>8937</td>\n",
       "      <td>44394</td>\n",
       "      <td>2002-12-01</td>\n",
       "      <td>4</td>\n",
       "      <td>This worked very well and is EASY.  I used not...</td>\n",
       "    </tr>\n",
       "    <tr>\n",
       "      <th>3</th>\n",
       "      <td>126440</td>\n",
       "      <td>85009</td>\n",
       "      <td>2010-02-27</td>\n",
       "      <td>5</td>\n",
       "      <td>I made the Mexican topping and took it to bunk...</td>\n",
       "    </tr>\n",
       "    <tr>\n",
       "      <th>4</th>\n",
       "      <td>57222</td>\n",
       "      <td>85009</td>\n",
       "      <td>2011-10-01</td>\n",
       "      <td>5</td>\n",
       "      <td>Made the cheddar bacon topping, adding a sprin...</td>\n",
       "    </tr>\n",
       "  </tbody>\n",
       "</table>\n",
       "</div>"
      ],
      "text/plain": [
       "   user_id  recipe_id        date  rating                                             review\n",
       "0    38094      40893  2003-02-17       4  Great with a salad. Cooked on top of stove for...\n",
       "1  1293707      40893  2011-12-21       5  So simple, so delicious! Great for chilly fall...\n",
       "2     8937      44394  2002-12-01       4  This worked very well and is EASY.  I used not...\n",
       "3   126440      85009  2010-02-27       5  I made the Mexican topping and took it to bunk...\n",
       "4    57222      85009  2011-10-01       5  Made the cheddar bacon topping, adding a sprin..."
      ]
     },
     "execution_count": 4,
     "metadata": {},
     "output_type": "execute_result"
    }
   ],
   "source": [
    "# Load interactions (user ratings) into dataframe\n",
    "df_interact = pd.read_csv('dataset/RAW_interactions.csv', dtype={'review': str})\n",
    "df_interact.head()"
   ]
  },
  {
   "cell_type": "markdown",
   "metadata": {},
   "source": [
    "#### **1. Initial Data Exploration:** Explore the distribution of recipes based on key features such as minutes, tags, n_steps, and n_ingredients, and visualize the distribution of recipes for each of these features. "
   ]
  },
  {
   "cell_type": "code",
   "execution_count": null,
   "metadata": {},
   "outputs": [],
   "source": [
    "mins = sorted((df_recipes['minutes']), reverse=1)\n",
    "print(f'{len(mins):_}')\n",
    "print('Recipes with 0 minutes:', len([ x for x in mins if x == 0 ]))\n",
    "th = 160\n",
    "mins[:100]"
   ]
  },
  {
   "cell_type": "code",
   "execution_count": null,
   "metadata": {},
   "outputs": [],
   "source": [
    "# Visualize dist of recipe minutes\n",
    "mins_fil = [ x for x in df_recipes['minutes'] if (0 < x and x < 60*4) ]\n",
    "print(len(mins_fil))\n",
    "plt.hist(mins_fil, bins=50)\n",
    "plt.show()"
   ]
  },
  {
   "cell_type": "code",
   "execution_count": null,
   "metadata": {},
   "outputs": [],
   "source": [
    "# \n",
    "fig, ax = plt.subplots(3, 1, figsize=(6,10))\n",
    "for i, key in enumerate(['n_tags', 'n_ingredients', 'n_steps']):\n",
    "    ax[i].hist(df_recipes[key], bins=40)\n",
    "    ax[i].set_title(key)\n",
    "plt.show()"
   ]
  },
  {
   "cell_type": "markdown",
   "metadata": {},
   "source": [
    "#### 2. **User Profile Generation:** Using the two datasets, RAW_recipes.csv and RAW_interactions.csv, create a new dataset named User_Data.csv, where each row corresponds to a user in the system. The columns should include rated_recipes (a list of all recipes rated by the user), ingredients (a list of all ingredients in the recipes rated by the user), and rating_list (the list of ratings given by the user). Based on this generated user profile, explore the distribution of users across key features such as the number of rated items, the total number of ingredients per user, and the average of recorded ratings. Visualize the distribution of users for each of these features. "
   ]
  },
  {
   "cell_type": "code",
   "execution_count": 3,
   "metadata": {},
   "outputs": [],
   "source": [
    "def create_userdata_dataframe(ratings):\n",
    "    users = {}\n",
    "    total_ratings = len(ratings)\n",
    "    for i, row in enumerate(ratings.itertuples()):\n",
    "        print('\\rHandling interaction {:_} ({:.1f}%)'.format(i+1, (i+1)/total_ratings*100), end='')\n",
    "        obj = users.get(row.user_id)\n",
    "        if obj == None:\n",
    "            obj = {'user_id': row.user_id, 'rated_recipes': [], 'rating_list': [], 'ingredients': []}\n",
    "        obj['rated_recipes'].append(row.recipe_id)\n",
    "        obj['rating_list'].append(row.rating)\n",
    "        recipe = df_recipes.loc[row.recipe_id] # get recipe by its id\n",
    "        obj['ingredients'].extend(recipe.ingredients)\n",
    "        obj['ingredients'] = list(set(obj['ingredients']))\n",
    "        users[row.user_id] = obj\n",
    "        # if i >= 100_000: break\n",
    "    print('\\nDone.')\n",
    "    df_userdata = pd.DataFrame(users.values())\n",
    "    df_userdata.set_index('user_id', inplace=True)\n",
    "    df_userdata = df_userdata.sort_index()\n",
    "    return df_userdata"
   ]
  },
  {
   "cell_type": "code",
   "execution_count": 5,
   "metadata": {},
   "outputs": [
    {
     "name": "stdout",
     "output_type": "stream",
     "text": [
      "Loading df_userdata ...\n"
     ]
    },
    {
     "data": {
      "text/html": [
       "<div>\n",
       "<style scoped>\n",
       "    .dataframe tbody tr th:only-of-type {\n",
       "        vertical-align: middle;\n",
       "    }\n",
       "\n",
       "    .dataframe tbody tr th {\n",
       "        vertical-align: top;\n",
       "    }\n",
       "\n",
       "    .dataframe thead th {\n",
       "        text-align: right;\n",
       "    }\n",
       "</style>\n",
       "<table border=\"1\" class=\"dataframe\">\n",
       "  <thead>\n",
       "    <tr style=\"text-align: right;\">\n",
       "      <th></th>\n",
       "      <th>rated_recipes</th>\n",
       "      <th>ingredients</th>\n",
       "      <th>rating_list</th>\n",
       "    </tr>\n",
       "    <tr>\n",
       "      <th>user_id</th>\n",
       "      <th></th>\n",
       "      <th></th>\n",
       "      <th></th>\n",
       "    </tr>\n",
       "  </thead>\n",
       "  <tbody>\n",
       "    <tr>\n",
       "      <th>38094</th>\n",
       "      <td>[40893, 16954, 40753, 34513, 69545, 49064, 800...</td>\n",
       "      <td>[onion, vegetable oil cooking spray, chicken s...</td>\n",
       "      <td>[4, 5, 5, 5, 5, 4, 5, 5, 5, 5, 5, 5, 4, 5, 5, ...</td>\n",
       "    </tr>\n",
       "    <tr>\n",
       "      <th>1293707</th>\n",
       "      <td>[40893, 134316, 39446, 253891, 204257, 99564, ...</td>\n",
       "      <td>[garlic clove, bean sprouts, onion, boneless p...</td>\n",
       "      <td>[5, 5, 5, 5, 0, 4, 5, 5, 5, 5, 5, 5, 5, 5, 5, ...</td>\n",
       "    </tr>\n",
       "    <tr>\n",
       "      <th>8937</th>\n",
       "      <td>[44394, 39230, 44793, 20128, 33990, 43762, 945...</td>\n",
       "      <td>[garlic clove, onion, chicken stock, white win...</td>\n",
       "      <td>[4, 4, 4, 5, 5, 4, 5, 4, 5, 4, 4, 4, 5, 4, 4, ...</td>\n",
       "    </tr>\n",
       "    <tr>\n",
       "      <th>126440</th>\n",
       "      <td>[85009, 379639, 379102, 45539, 53594, 210456, ...</td>\n",
       "      <td>[pineapple chunks in juice, pecorino cheese, f...</td>\n",
       "      <td>[5, 5, 5, 5, 5, 5, 5, 5, 5, 5, 4, 5, 5, 5, 5, ...</td>\n",
       "    </tr>\n",
       "    <tr>\n",
       "      <th>57222</th>\n",
       "      <td>[85009, 434181, 34233, 443705, 122826, 112378,...</td>\n",
       "      <td>[great northern bean, vegetable oil cooking sp...</td>\n",
       "      <td>[5, 5, 4, 5, 4, 5, 4, 4, 4, 4, 5, 0, 4, 5, 5, ...</td>\n",
       "    </tr>\n",
       "  </tbody>\n",
       "</table>\n",
       "</div>"
      ],
      "text/plain": [
       "                                             rated_recipes                                        ingredients                                        rating_list\n",
       "user_id                                                                                                                                                         \n",
       "38094    [40893, 16954, 40753, 34513, 69545, 49064, 800...  [onion, vegetable oil cooking spray, chicken s...  [4, 5, 5, 5, 5, 4, 5, 5, 5, 5, 5, 5, 4, 5, 5, ...\n",
       "1293707  [40893, 134316, 39446, 253891, 204257, 99564, ...  [garlic clove, bean sprouts, onion, boneless p...  [5, 5, 5, 5, 0, 4, 5, 5, 5, 5, 5, 5, 5, 5, 5, ...\n",
       "8937     [44394, 39230, 44793, 20128, 33990, 43762, 945...  [garlic clove, onion, chicken stock, white win...  [4, 4, 4, 5, 5, 4, 5, 4, 5, 4, 4, 4, 5, 4, 4, ...\n",
       "126440   [85009, 379639, 379102, 45539, 53594, 210456, ...  [pineapple chunks in juice, pecorino cheese, f...  [5, 5, 5, 5, 5, 5, 5, 5, 5, 5, 4, 5, 5, 5, 5, ...\n",
       "57222    [85009, 434181, 34233, 443705, 122826, 112378,...  [great northern bean, vegetable oil cooking sp...  [5, 5, 4, 5, 4, 5, 4, 4, 4, 4, 5, 0, 4, 5, 5, ..."
      ]
     },
     "execution_count": 5,
     "metadata": {},
     "output_type": "execute_result"
    }
   ],
   "source": [
    "# Create OR load userdata dataframe\n",
    "userdata_fn = 'dataset/User_Data.csv'\n",
    "if not os.path.exists(userdata_fn):\n",
    "    print('Creating df_userdata ...')\n",
    "    df_userdata = create_userdata_dataframe(df_interact)\n",
    "    df_userdata.to_csv(userdata_fn)\n",
    "else:\n",
    "    print('Loading df_userdata ...')\n",
    "    converters = { k: literal_eval for k in ['rated_recipes', 'ingredients', 'rating_list'] }\n",
    "    df_userdata = pd.read_csv(userdata_fn, converters=converters, index_col='user_id')\n",
    "df_userdata.head()"
   ]
  },
  {
   "cell_type": "code",
   "execution_count": null,
   "metadata": {},
   "outputs": [],
   "source": [
    "# Visualize distribution of user parameters\n"
   ]
  },
  {
   "cell_type": "markdown",
   "metadata": {},
   "source": [
    "#### TESTING"
   ]
  },
  {
   "cell_type": "code",
   "execution_count": null,
   "metadata": {},
   "outputs": [],
   "source": [
    "ratings_matrix = df_interact.pivot_table(index='user_id', columns='recipe_id', values='rating', fill_value=0)\n",
    "ratings_matrix.head()"
   ]
  },
  {
   "cell_type": "code",
   "execution_count": null,
   "metadata": {},
   "outputs": [],
   "source": [
    "# pivot table testing\n",
    "# Sample DataFrame\n",
    "data = {\n",
    "    'Recipe_ID': [1, 2, 1, 4, 2, 1],\n",
    "    'User_ID': [101, 102, 101, 103, 102, 105],\n",
    "    'Rating': [5, 4, 2, 5, 4, 2],\n",
    "    'Ingredient': ['Sugar', 'Salt', 'Sugar', 'Flour', 'Salt', 'Butter']\n",
    "}\n",
    "\n",
    "df = pd.DataFrame(data)\n",
    "print(df)"
   ]
  },
  {
   "cell_type": "code",
   "execution_count": null,
   "metadata": {},
   "outputs": [],
   "source": [
    "pivot_df = df.pivot_table(\n",
    "    index='Recipe_ID',   # Rows (unique recipe IDs)\n",
    "    columns='User_ID',   # Columns (user IDs)\n",
    "    values='Rating',      # Values to aggregate\n",
    "    # aggfunc='mean',       # Aggregation function (mean rating)\n",
    "    fill_value=0          # Fill missing values with 0\n",
    ")\n",
    "pivot_df"
   ]
  },
  {
   "cell_type": "markdown",
   "metadata": {},
   "source": [
    "##### 5. **Tag- and ingredients-based Recipe Similarity Calculation:** Propose a method for calculating the similarity between different recipes, such as TF-IDF, Jaccard, Levenshtein Distance, Semantic Similarity, or Doc2Vec, by considering recipes' ingredients and tags. Next, calculate the recipe similarities based on their tags and ingredients using the selected method. "
   ]
  },
  {
   "cell_type": "code",
   "execution_count": 66,
   "metadata": {},
   "outputs": [],
   "source": [
    "# Functions for performing jaccard similarity between recipes\n",
    "def jaccard_similarity(s1, s2):\n",
    "    intersect = set([ x for x in s1 + s2 if (x in s1 and x in s2) ])\n",
    "    union = list(set(s1 + s2))\n",
    "    return len(intersect) / len(union)\n",
    "\n",
    "# Given a target set, get array of jaccard similarity for all sets\n",
    "def jaccard_similarity_array(target_set, sets):\n",
    "    return [ jaccard_similarity(target_set, set_cmp) for set_cmp in sets ]\n",
    "\n",
    "def get_similar_items_tags(tags_corpus, ingredients_corpus, target_i, top_n=5):\n",
    "    target_tags, target_ingredients = tags_corpus[target_i], ingredients_corpus[target_i]\n",
    "    sims_tags = jaccard_similarity_array(target_tags, tags_corpus)\n",
    "    sims_ingredients = jaccard_similarity_array(target_ingredients, ingredients_corpus)\n",
    "    sims_ave = [ (sim1 + sim2) / 2 for sim1, sim2 in zip(sims_tags, sims_ingredients) ]\n",
    "    sims_items = [ (i, sim) for i, sim in enumerate(sims_ave) ]\n",
    "    sims_items.sort(reverse=True, key=lambda item: item[1])\n",
    "    return sims_items[1:top_n+1]"
   ]
  },
  {
   "cell_type": "code",
   "execution_count": 56,
   "metadata": {},
   "outputs": [],
   "source": [
    "# Get list (corpus) of recipe tags and ingredients\n",
    "n = None # Set to None to load whole dataframe\n",
    "tags_corpus =        list(df_recipes.head(n)['tags'].values)\n",
    "ingredients_corpus = list(df_recipes.head(n)['ingredients'].values)"
   ]
  },
  {
   "cell_type": "code",
   "execution_count": 71,
   "metadata": {},
   "outputs": [
    {
     "name": "stdout",
     "output_type": "stream",
     "text": [
      "TARGET RECIPE: \"Indian - Macaroni And Cheese\" (index: 425):\n",
      "      TAGS: 30-minutes-or-less, 5-ingredients-or-less, american, beginner-cook, cheese, course, cuisine, dietary, easy, eggs-dairy, elbow-macaroni, high-calcium, high-in-something, inexpensive, main-dish, main-ingredient, midwestern, north-american, one-dish-meal, pasta, pasta-rice-and-grains, preparation, side-dishes, time-to-make\n",
      "      INGS: cheese, elbow macaroni, milk, salt and pepper\n",
      "\n",
      "RECOMMENDATIONS:\n",
      "\n",
      "   1: SIM: 0.620   NAME: \"Baked Mac And Cheese\"  (index: 14_510)\n",
      "      TAGS: 4-hours-or-less, cheese, course, eggs-dairy, elbow-macaroni, main-dish, main-ingredient, pasta, pasta-rice-and-grains, preparation, side-dishes, time-to-make\n",
      "      INGS: butter, cheese, elbow macaroni, milk, salt and pepper\n",
      "\n",
      "   2: SIM: 0.611   NAME: \"Super Creamy And Cheesy Mac And Cheese\"  (index: 203_923)\n",
      "      TAGS: 15-minutes-or-less, american, cheese, course, cuisine, dietary, easy, eggs-dairy, elbow-macaroni, lunch, main-ingredient, north-american, pasta, pasta-rice-and-grains, preparation, side-dishes, snacks, time-to-make\n",
      "      INGS: butter, cheese, elbow macaroni, flour, milk, salt and pepper\n",
      "\n",
      "   3: SIM: 0.610   NAME: \"Nanny S Simple Macaroni And Cheese\"  (index: 142_753)\n",
      "      TAGS: 4-hours-or-less, 5-ingredients-or-less, casseroles, cheese, course, dietary, easy, eggs-dairy, elbow-macaroni, equipment, high-calcium, high-in-something, high-protein, inexpensive, main-dish, main-ingredient, one-dish-meal, oven, pasta, pasta-rice-and-grains, preparation, side-dishes, time-to-make\n",
      "      INGS: colby cheese, elbow macaroni, milk, salt and pepper\n",
      "\n",
      "   4: SIM: 0.541   NAME: \"Real Macaroni And Cheese\"  (index: 171_606)\n",
      "      TAGS: 60-minutes-or-less, cheese, course, cuisine, dietary, eggs-dairy, elbow-macaroni, high-calcium, high-in-something, inexpensive, main-dish, main-ingredient, north-american, pasta, pasta-rice-and-grains, preparation, side-dishes, time-to-make, vegetarian\n",
      "      INGS: butter, cheddar cheese, elbow macaroni, flour, milk, salt and pepper\n",
      "\n",
      "   5: SIM: 0.527   NAME: \"Southern Macaroni Pie Ii\"  (index: 192_477)\n",
      "      TAGS: 5-ingredients-or-less, 60-minutes-or-less, american, beginner-cook, cheese, course, cuisine, dietary, easy, eggs-dairy, elbow-macaroni, high-calcium, high-in-something, main-dish, main-ingredient, north-american, pasta, pasta-rice-and-grains, preparation, side-dishes, southern-united-states, time-to-make\n",
      "      INGS: butter, cheddar cheese, eggs, elbow macaroni, milk\n"
     ]
    }
   ],
   "source": [
    "# Get most similar items\n",
    "target_i = 425\n",
    "target_recipe = df_recipes.iloc[target_i]\n",
    "top_results = get_similar_items_tags(tags_corpus, ingredients_corpus, target_i, top_n=5)\n",
    "print('TARGET RECIPE: \"{}\" (index: {:_}):'.format(target_recipe['name'].replace('  ', ' - ').title(), target_i))\n",
    "print('      TAGS: {}'.format(', '.join(sorted(tags_corpus[target_i]))))\n",
    "print('      INGS: {}'.format(', '.join(sorted(ingredients_corpus[target_i]))))\n",
    "print('\\nRECOMMENDATIONS:')\n",
    "for j, (i, sim) in enumerate(top_results):\n",
    "    recipe = df_recipes.iloc[i]\n",
    "    print('\\n  {:>2}: SIM: {:.3f}   NAME: \"{}\"  (index: {:_})'.format( j+1, sim, recipe['name'].replace('  ', ' - ').title(), i))\n",
    "    print('      TAGS: {}'.format(', '.join(sorted(tags_corpus[i]))))\n",
    "    print('      INGS: {}'.format(', '.join(sorted(ingredients_corpus[i]))))"
   ]
  },
  {
   "cell_type": "markdown",
   "metadata": {},
   "source": [
    "#### **6. Description-based Recipe Similarity Calculation:** Repeat Task 5 for recipe similarity calculation based on the descriptions of each recipe. "
   ]
  },
  {
   "cell_type": "code",
   "execution_count": null,
   "metadata": {},
   "outputs": [],
   "source": [
    "from sklearn.feature_extraction.text import TfidfVectorizer\n",
    "from sklearn.metrics.pairwise import cosine_similarity\n",
    "import nltk\n",
    "from nltk.tokenize import word_tokenize, sent_tokenize\n",
    "\n",
    "STOPWORDS = list(nltk.corpus.stopwords.words('english'))\n",
    "STEMMER = nltk.stem.snowball.SnowballStemmer('english')\n",
    "LEMMATIZER = nltk.stem.WordNetLemmatizer()"
   ]
  },
  {
   "cell_type": "code",
   "execution_count": 6,
   "metadata": {},
   "outputs": [],
   "source": [
    "STOPWORDS = list(nltk.corpus.stopwords.words('english'))\n",
    "STEMMER = nltk.stem.snowball.SnowballStemmer('english')\n",
    "LEMMATIZER = nltk.stem.WordNetLemmatizer()\n",
    "\n",
    "def text_preprocessor(document):\n",
    "    tokens = []\n",
    "    for sentence in sent_tokenize(document.lower()):\n",
    "        words = word_tokenize(sentence)\n",
    "        words = [ word for word in words if (word.isalpha() and word not in STOPWORDS) ]\n",
    "        words = [ STEMMER.stem(word) for word in words ]\n",
    "        words = [ LEMMATIZER.lemmatize(word, pos=\"v\") for word in words ]\n",
    "        tokens.extend(words)\n",
    "    return ' '.join(tokens)"
   ]
  },
  {
   "cell_type": "code",
   "execution_count": 7,
   "metadata": {},
   "outputs": [],
   "source": [
    "def get_similar_items_TFIDF(matrix, target_i, top_n=10):\n",
    "    target_vector = matrix[target_i]\n",
    "    cosine_sims = cosine_similarity(target_vector, matrix)[0]\n",
    "    sims_items = [ (i, sim) for i, sim in enumerate(cosine_sims) ]\n",
    "    sims_items.sort(reverse=True, key=lambda item: item[1])\n",
    "    return sims_items[1:top_n+1]"
   ]
  },
  {
   "cell_type": "code",
   "execution_count": 8,
   "metadata": {},
   "outputs": [],
   "source": [
    "# Train TFIDF on recipe descriptions\n",
    "descriptions = list(df_recipes['description'].fillna('').values)\n",
    "desc_tfidf = TfidfVectorizer(preprocessor=text_preprocessor, ngram_range=(1, 2))\n",
    "desc_tfidf_matrix = desc_tfidf.fit_transform(descriptions)"
   ]
  },
  {
   "cell_type": "code",
   "execution_count": 9,
   "metadata": {},
   "outputs": [
    {
     "name": "stdout",
     "output_type": "stream",
     "text": [
      "TARGET RECIPE:\n",
      "\"Indian - Macaroni And Cheese\" (index: 425):\n",
      "for those of us who get gov't food. its is the easiest and simplest macaroni and cheese recipes.\n",
      "\n",
      "RECOMMENDATIONS:\n",
      "\n",
      "   1: SIM: 0.317   NAME: \"Best Macaroni -  Cheese\"  (index: 22_713)\n",
      "delicious macaroni & cheese recipe i came up with!\n",
      "\n",
      "   2: SIM: 0.239   NAME: \"Jalapeno Pepper Mac - N - Cheese\"  (index: 113_839)\n",
      "macaroni & cheese recipe from rachael ray's magazine, august 2009.\n",
      "\n",
      "   3: SIM: 0.237   NAME: \"Mary S Macaroni And Cheese\"  (index: 131_637)\n",
      "creamy macaroni and cheese\n",
      "\n",
      "   4: SIM: 0.237   NAME: \"Leslie S Macaroni -  Cheese\"  (index: 123_345)\n",
      "macaroni & cheese - my favorite recipe\n",
      "\n",
      "   5: SIM: 0.236   NAME: \"Easy Mac And Cheese Lasagna\"  (index: 77_038)\n",
      "macaroni and cheese with a twist\n"
     ]
    }
   ],
   "source": [
    "# Get most similar items\n",
    "target_i = 425\n",
    "target_recipe = df_recipes.iloc[target_i]\n",
    "top_results = get_similar_items_TFIDF(desc_tfidf_matrix, target_i, top_n=5)\n",
    "print('TARGET RECIPE:')\n",
    "print('\"{}\" (index: {:_}):'.format(target_recipe['name'].replace('  ', ' - ').title(), target_i))\n",
    "print(format_text(target_recipe['description']))\n",
    "print('\\nRECOMMENDATIONS:')\n",
    "for j, (i, sim) in enumerate(top_results):\n",
    "    recipe = df_recipes.iloc[i]\n",
    "    print('\\n  {:>2}: SIM: {:.3f}   NAME: \"{}\"  (index: {:_})'.format( j+1, sim, recipe['name'].replace('  ', ' - ').title(), i))\n",
    "    print(format_text(recipe['description']))"
   ]
  },
  {
   "cell_type": "markdown",
   "metadata": {},
   "source": [
    "#### **7. Review-based Recipe Similarity Calculation:** Repeat Task 5 for recipe similarity calculation based on the reviews of each recipe. "
   ]
  },
  {
   "cell_type": "code",
   "execution_count": null,
   "metadata": {},
   "outputs": [
    {
     "name": "stdout",
     "output_type": "stream",
     "text": [
      "Loading recipe reviews dataframe ...\n"
     ]
    }
   ],
   "source": [
    "# Combine recipe reviews into recipes dataframe\n",
    "def get_recipe_reviews(id):\n",
    "    reviews = df_interact[df_interact['recipe_id'] == id]['review']\n",
    "    return '\\n'.join(reviews.fillna(''))\n",
    "\n",
    "recipe_reviews_filename = 'dataset/Recipe_Reviews.csv'\n",
    "if not os.path.exists(recipe_reviews_filename):\n",
    "    print('Creating recipe reviews dataframe ...')\n",
    "    recipes = df_recipes.head(None).copy()\n",
    "    df_recipe_reviews = pd.DataFrame(index=recipes.index)\n",
    "    df_recipe_reviews['reviews'] = df_recipe_reviews.index.map(lambda id: get_recipe_reviews(id))\n",
    "    df_recipe_reviews.to_csv(recipe_reviews_filename)\n",
    "else:\n",
    "    print('Loading recipe reviews dataframe ...')\n",
    "    df_recipe_reviews = pd.read_csv(recipe_reviews_filename, index_col='id')\n",
    "\n",
    "# df_recipe_reviews.head()"
   ]
  },
  {
   "cell_type": "code",
   "execution_count": 15,
   "metadata": {},
   "outputs": [],
   "source": [
    "# Train TFIDF model on recipe reviews\n",
    "reviews = list(df_recipe_reviews.head(None)['reviews'].fillna('').values)\n",
    "reviews_tfidf = TfidfVectorizer(preprocessor=text_preprocessor, ngram_range=(1, 1))\n",
    "reviews_tfidf_matrix = reviews_tfidf.fit_transform(reviews)"
   ]
  },
  {
   "cell_type": "code",
   "execution_count": 16,
   "metadata": {},
   "outputs": [
    {
     "name": "stdout",
     "output_type": "stream",
     "text": [
      "TARGET RECIPE:\n",
      "\"Indian - Macaroni And Cheese\"   (index: 425):\n",
      "\n",
      "RECOMMENDATIONS:\n",
      "   1: SIM: 0.337   \"Mom S Easy Crock Pot Scalloped Potatos\"   (index: 138219)\n",
      "   2: SIM: 0.337   \"Downunder Cheese Puffs\"   (index: 73340)\n",
      "   3: SIM: 0.334   \"Coconut Pecan Cake With Broiled Frosting\"   (index: 55867)\n",
      "   4: SIM: 0.318   \"Mom S Easy Tuna Noodle Casserole\"   (index: 138233)\n",
      "   5: SIM: 0.307   \"Iron Mike S White Sharp Cheddar N - Ham Macaroni And Cheese\"   (index: 111999)\n",
      "   6: SIM: 0.304   \"Macaroni Bake\"   (index: 128075)\n",
      "   7: SIM: 0.295   \"Mrs - B S Best Ever Macaroni And Cheese\"   (index: 140076)\n",
      "   8: SIM: 0.289   \"Really Good Cheddar Soup\"   (index: 171718)\n",
      "   9: SIM: 0.286   \"Irish Broccoli - Potato And Cheddar Chowder\"   (index: 111762)\n",
      "  10: SIM: 0.281   \"Saucy Macaroni And Cheese\"   (index: 180536)\n"
     ]
    }
   ],
   "source": [
    "# Get most similar items\n",
    "# random.seed(1); target_i = random.randint(0, len(recipes)-1) # get seeded random target_i\n",
    "target_i = 425\n",
    "target_recipe = df_recipes.iloc[target_i]\n",
    "top_results = get_similar_items_TFIDF(reviews_tfidf_matrix, target_i, top_n=10)\n",
    "print('TARGET RECIPE:')\n",
    "print('\"{}\"   (index: {}):'.format(target_recipe['name'].replace('  ', ' - ').title(), target_i))\n",
    "# print(format_text(df_recipe_reviews.iloc[target_i]['reviews'][:300]))\n",
    "print('\\nRECOMMENDATIONS:')\n",
    "for j, (i, sim) in enumerate(top_results):\n",
    "    recipe, reviews = df_recipes.iloc[i], df_recipe_reviews.iloc[i]\n",
    "    print('  {:>2}: SIM: {:.3f}   \"{}\"   (index: {})'.format( j+1, sim, recipe['name'].replace('  ', ' - ').title(), i))\n",
    "    # print(format_text(reviews['reviews'][:300]))"
   ]
  }
 ],
 "metadata": {
  "kernelspec": {
   "display_name": "venv_nlp",
   "language": "python",
   "name": "python3"
  },
  "language_info": {
   "codemirror_mode": {
    "name": "ipython",
    "version": 3
   },
   "file_extension": ".py",
   "mimetype": "text/x-python",
   "name": "python",
   "nbconvert_exporter": "python",
   "pygments_lexer": "ipython3",
   "version": "3.11.0"
  }
 },
 "nbformat": 4,
 "nbformat_minor": 2
}
