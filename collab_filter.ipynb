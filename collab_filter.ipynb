{
 "cells": [
  {
   "cell_type": "code",
   "execution_count": null,
   "metadata": {},
   "outputs": [],
   "source": [
    "import pandas as pd\n",
    "import matplotlib.pyplot as plt\n",
    "import numpy as np\n",
    "import os\n",
    "from ast import literal_eval\n",
    "import time\n",
    "from datetime import timedelta\n",
    "\n",
    "from scipy.sparse import hstack, vstack, csr_matrix, load_npz, save_npz\n",
    "\n",
    "pd.set_option('display.width', 1400)"
   ]
  },
  {
   "cell_type": "markdown",
   "metadata": {},
   "source": [
    "#### Functions"
   ]
  },
  {
   "cell_type": "code",
   "execution_count": null,
   "metadata": {},
   "outputs": [],
   "source": [
    "def get_train_and_test_data(df):\n",
    "    from sklearn.model_selection import train_test_split\n",
    "    df_exploded = df.explode(['rated_recipes', 'rating_list'])\n",
    "    df_train_exploded, df_test_exploded = train_test_split(df_exploded, test_size=0.2, random_state=42)\n",
    "    df_train = df_train_exploded.groupby(level=0).agg(list).drop('ingredients', axis=1)\n",
    "    df_test = df_test_exploded.groupby(level=0).agg(list).drop('ingredients', axis=1)\n",
    "    all_user_ids = df.index\n",
    "    df_train = df_train.reindex(all_user_ids, fill_value=[]) # Re-index to ensure all user_ids are included\n",
    "    df_test = df_test.reindex(all_user_ids, fill_value=[])\n",
    "    return df_train, df_test"
   ]
  },
  {
   "cell_type": "markdown",
   "metadata": {},
   "source": [
    "#### Load Data"
   ]
  },
  {
   "cell_type": "code",
   "execution_count": null,
   "metadata": {},
   "outputs": [],
   "source": [
    "# Load necessary dataframes\n",
    "converters = { k: literal_eval for k in ['tags', 'ingredients', 'steps', 'nutrition'] } # for evaluating strings as arrays (eg. tags)\n",
    "\n",
    "df_recipes = pd.read_csv('dataset/RAW_recipes.csv', converters=converters, index_col='id')\n",
    "df_recipe_reviews = pd.read_csv('dataset/Recipe_Reviews.csv', index_col='id')\n",
    "\n",
    "# df_interact = pd.read_csv('dataset/RAW_interactions.csv', dtype={'review': str})\n",
    "# converters = { k: literal_eval for k in ['rated_recipes', 'ingredients', 'rating_list'] }\n",
    "# df_userdata = pd.read_csv('dataset/User_Data.csv', converters=converters, index_col='user_id')"
   ]
  },
  {
   "cell_type": "code",
   "execution_count": null,
   "metadata": {},
   "outputs": [],
   "source": [
    "# Create or load training and test data\n",
    "converters = { k: literal_eval for k in ['rated_recipes', 'ingredients', 'rating_list'] }\n",
    "train_fn = 'dataset/User_Data_Train.csv'\n",
    "test_fn = 'dataset/User_Data_Test.csv'\n",
    "if os.path.exists(train_fn):\n",
    "    print('Loading train and test userdata ...')\n",
    "    df_train = pd.read_csv(train_fn, converters=converters, index_col='user_id')\n",
    "    df_test =  pd.read_csv(test_fn, converters=converters, index_col='user_id')\n",
    "else:\n",
    "    print('Reading userdata dataframe ...')\n",
    "    df_userdata = pd.read_csv('dataset/User_Data.csv', converters=converters, index_col='user_id')\n",
    "    print('Splitting userdata into training and test data ...')\n",
    "    df_train, df_test = get_train_and_test_data(df_userdata.head(None).copy())\n",
    "    df_train.to_csv(train_fn)\n",
    "    df_test.to_csv(test_fn)\n",
    "print('Done.')"
   ]
  },
  {
   "cell_type": "code",
   "execution_count": null,
   "metadata": {},
   "outputs": [],
   "source": [
    "# Create User-Item Matrix\n",
    "data, rows, cols = [], [], []\n",
    "\n",
    "for i, (user_id, row) in enumerate(df_train.iterrows()):\n",
    "    print('\\r{:_}/{:_}'.format(i+1, len(df_train)), end='')\n",
    "    for recipe_id, rating in zip(row['rated_recipes'], row['rating_list']):\n",
    "        user_IDX = id_to_index_USERS[user_id]\n",
    "        recipe_IDX = id_to_index_RECIPES[recipe_id]\n",
    "        data.append(rating)\n",
    "        rows.append(user_IDX)\n",
    "        cols.append(recipe_IDX)\n",
    "print('\\nDone.')\n",
    "\n",
    "user_item_matrix = csr_matrix((data, (rows, cols)), shape=(len(df_train), len(df_recipes)))\n",
    "print('Matrix made!')"
   ]
  }
 ],
 "metadata": {
  "kernelspec": {
   "display_name": "venv_nlp",
   "language": "python",
   "name": "python3"
  },
  "language_info": {
   "codemirror_mode": {
    "name": "ipython",
    "version": 3
   },
   "file_extension": ".py",
   "mimetype": "text/x-python",
   "name": "python",
   "nbconvert_exporter": "python",
   "pygments_lexer": "ipython3",
   "version": "3.11.0"
  }
 },
 "nbformat": 4,
 "nbformat_minor": 2
}
